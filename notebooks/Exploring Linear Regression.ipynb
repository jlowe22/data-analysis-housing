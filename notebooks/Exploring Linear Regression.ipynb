{
 "cells": [
  {
   "cell_type": "code",
   "execution_count": 94,
   "metadata": {},
   "outputs": [],
   "source": [
    "import pandas as pd\n",
    "import numpy as np\n",
    "from sklearn import linear_model\n",
    "from sklearn.metrics import mean_squared_error\n",
    "from sklearn.model_selection import train_test_split"
   ]
  },
  {
   "cell_type": "code",
   "execution_count": 72,
   "metadata": {},
   "outputs": [],
   "source": [
    "df = pd.read_csv('housing_analysis.csv')\n",
    "df.dropna(inplace=True)\n",
    "y = df[['Median home value']]"
   ]
  },
  {
   "cell_type": "code",
   "execution_count": 73,
   "metadata": {},
   "outputs": [
    {
     "data": {
      "text/plain": [
       "Index(['Zip Code', 'Population below poverty level', 'Median household income',\n",
       "       'Non-White, Non-Hispanic or Latino', 'Hispanic or Latino, of any race',\n",
       "       'Population with disability', 'Unemployment',\n",
       "       'Large households (5+ members)',\n",
       "       'Homes affordable to people earning less than $50,000',\n",
       "       'Rentals affordable to people earning less than $25,000',\n",
       "       'Rent-restricted units', 'Housing Choice Voucher holders',\n",
       "       'Median rent', 'Median home value',\n",
       "       'Percentage of rental units in poor condition',\n",
       "       'Percent change in number of housing units, 2000-2012',\n",
       "       'Owner units affordable to average retail/service worker',\n",
       "       'Rental units affordable to average retail/service worker',\n",
       "       'Rental units affordable to average artist',\n",
       "       'Owner units affordable to average artist',\n",
       "       'Rental units affordable to average teacher',\n",
       "       'Owner units affordable to average teacher',\n",
       "       'Rental units affordable to average tech worker',\n",
       "       'Owner units affordable to average tech worker',\n",
       "       'Change in percentage of population below poverty, 2000-2012',\n",
       "       'Change in median rent, 2000-2012',\n",
       "       'Change in median home value, 2000-2012',\n",
       "       'Percentage of homes within 1/4-mi of transit stop',\n",
       "       'Average monthly transportation cost',\n",
       "       'Percentage of housing and transportation costs that is transportation-related'],\n",
       "      dtype='object')"
      ]
     },
     "execution_count": 73,
     "metadata": {},
     "output_type": "execute_result"
    }
   ],
   "source": [
    "df.columns"
   ]
  },
  {
   "cell_type": "code",
   "execution_count": 74,
   "metadata": {},
   "outputs": [],
   "source": [
    "x = df[['Zip Code', 'Median household income',\n",
    "        'Unemployment',\n",
    "       'Large households (5+ members)',\n",
    "       'Median rent',\n",
    "       'Percentage of housing and transportation costs that is transportation-related'\n",
    "       ]]\n"
   ]
  },
  {
   "cell_type": "code",
   "execution_count": 77,
   "metadata": {},
   "outputs": [],
   "source": [
    "X_train, X_test, y_train, y_test = train_test_split(x, y, test_size=0.33, random_state=42)"
   ]
  },
  {
   "cell_type": "code",
   "execution_count": 78,
   "metadata": {},
   "outputs": [],
   "source": [
    "reg = linear_model.LinearRegression().fit(X_train, y_train)"
   ]
  },
  {
   "cell_type": "code",
   "execution_count": 86,
   "metadata": {},
   "outputs": [
    {
     "data": {
      "text/plain": [
       "0.7605904686720812"
      ]
     },
     "execution_count": 86,
     "metadata": {},
     "output_type": "execute_result"
    }
   ],
   "source": [
    "reg.score(X_test,y_test)"
   ]
  },
  {
   "cell_type": "code",
   "execution_count": 83,
   "metadata": {},
   "outputs": [
    {
     "data": {
      "text/plain": [
       "array([[391841.67732827],\n",
       "       [279497.00765918],\n",
       "       [180739.42607687],\n",
       "       [ 89156.2470006 ],\n",
       "       [464633.25571448],\n",
       "       [ 80139.13282184],\n",
       "       [ 98357.27125503],\n",
       "       [249334.4687157 ],\n",
       "       [ 84170.19144835],\n",
       "       [410476.86363412],\n",
       "       [324859.50142126],\n",
       "       [143349.96517949]])"
      ]
     },
     "execution_count": 83,
     "metadata": {},
     "output_type": "execute_result"
    }
   ],
   "source": [
    "predictions = reg.predict(X_test)\n",
    "predictions"
   ]
  },
  {
   "cell_type": "code",
   "execution_count": 84,
   "metadata": {},
   "outputs": [
    {
     "data": {
      "text/plain": [
       "array([[303100],\n",
       "       [192300],\n",
       "       [185500],\n",
       "       [108100],\n",
       "       [436800],\n",
       "       [134900],\n",
       "       [120200],\n",
       "       [168600],\n",
       "       [121000],\n",
       "       [388600],\n",
       "       [265100],\n",
       "       [144200]])"
      ]
     },
     "execution_count": 84,
     "metadata": {},
     "output_type": "execute_result"
    }
   ],
   "source": [
    "y_test.values"
   ]
  },
  {
   "cell_type": "code",
   "execution_count": 95,
   "metadata": {},
   "outputs": [
    {
     "data": {
      "text/plain": [
       "51668.40326129765"
      ]
     },
     "execution_count": 95,
     "metadata": {},
     "output_type": "execute_result"
    }
   ],
   "source": [
    "np.sqrt(mean_squared_error(predictions,y_test.values))"
   ]
  },
  {
   "cell_type": "code",
   "execution_count": 87,
   "metadata": {},
   "outputs": [],
   "source": [
    "import pickle"
   ]
  },
  {
   "cell_type": "code",
   "execution_count": 96,
   "metadata": {},
   "outputs": [],
   "source": [
    "with open('saved_model.pkl','wb') as out_file:\n",
    "    pickle.dump(reg,out_file)"
   ]
  },
  {
   "cell_type": "code",
   "execution_count": 97,
   "metadata": {},
   "outputs": [
    {
     "data": {
      "text/plain": [
       "array([[391841.67732827],\n",
       "       [279497.00765918],\n",
       "       [180739.42607687],\n",
       "       [ 89156.2470006 ],\n",
       "       [464633.25571448],\n",
       "       [ 80139.13282184],\n",
       "       [ 98357.27125503],\n",
       "       [249334.4687157 ],\n",
       "       [ 84170.19144835],\n",
       "       [410476.86363412],\n",
       "       [324859.50142126],\n",
       "       [143349.96517949]])"
      ]
     },
     "execution_count": 97,
     "metadata": {},
     "output_type": "execute_result"
    }
   ],
   "source": [
    "with open('saved_model.pkl','rb') as in_file:\n",
    "    saved_model = pickle.load(in_file)\n",
    "saved_model.predict(X_test)"
   ]
  },
  {
   "cell_type": "code",
   "execution_count": 92,
   "metadata": {},
   "outputs": [
    {
     "data": {
      "text/plain": [
       "array([[7.87500e+04, 7.59580e+04, 6.00000e+00, 6.00000e+00, 1.01200e+03,\n",
       "        3.30000e+01],\n",
       "       [7.87290e+04, 5.73580e+04, 7.00000e+00, 7.00000e+00, 1.00800e+03,\n",
       "        3.70000e+01],\n",
       "       [7.87480e+04, 6.58890e+04, 6.00000e+00, 8.00000e+00, 1.09500e+03,\n",
       "        4.40000e+01],\n",
       "       [7.87440e+04, 4.10560e+04, 9.00000e+00, 2.30000e+01, 9.46000e+02,\n",
       "        4.00000e+01],\n",
       "       [7.87310e+04, 7.82650e+04, 4.00000e+00, 2.00000e+00, 1.01600e+03,\n",
       "        3.20000e+01],\n",
       "       [7.87530e+04, 3.95930e+04, 9.00000e+00, 1.60000e+01, 8.26000e+02,\n",
       "        4.40000e+01],\n",
       "       [7.87410e+04, 3.01830e+04, 9.00000e+00, 1.00000e+01, 8.35000e+02,\n",
       "        4.30000e+01],\n",
       "       [7.87280e+04, 4.74050e+04, 6.00000e+00, 4.00000e+00, 9.01000e+02,\n",
       "        4.00000e+01],\n",
       "       [7.87210e+04, 3.21310e+04, 1.60000e+01, 1.40000e+01, 8.70000e+02,\n",
       "        4.00000e+01],\n",
       "       [7.87320e+04, 1.27726e+05, 5.00000e+00, 1.50000e+01, 1.68800e+03,\n",
       "        3.30000e+01],\n",
       "       [7.87220e+04, 4.49170e+04, 8.00000e+00, 3.00000e+00, 9.30000e+02,\n",
       "        3.30000e+01],\n",
       "       [7.87580e+04, 4.17920e+04, 1.00000e+01, 1.00000e+01, 8.98000e+02,\n",
       "        4.00000e+01]])"
      ]
     },
     "execution_count": 92,
     "metadata": {},
     "output_type": "execute_result"
    }
   ],
   "source": []
  },
  {
   "cell_type": "code",
   "execution_count": 93,
   "metadata": {},
   "outputs": [
    {
     "data": {
      "text/html": [
       "<div>\n",
       "<style scoped>\n",
       "    .dataframe tbody tr th:only-of-type {\n",
       "        vertical-align: middle;\n",
       "    }\n",
       "\n",
       "    .dataframe tbody tr th {\n",
       "        vertical-align: top;\n",
       "    }\n",
       "\n",
       "    .dataframe thead th {\n",
       "        text-align: right;\n",
       "    }\n",
       "</style>\n",
       "<table border=\"1\" class=\"dataframe\">\n",
       "  <thead>\n",
       "    <tr style=\"text-align: right;\">\n",
       "      <th></th>\n",
       "      <th>Zip Code</th>\n",
       "      <th>Median household income</th>\n",
       "      <th>Unemployment</th>\n",
       "      <th>Large households (5+ members)</th>\n",
       "      <th>Median rent</th>\n",
       "      <th>Percentage of housing and transportation costs that is transportation-related</th>\n",
       "    </tr>\n",
       "  </thead>\n",
       "  <tbody>\n",
       "    <tr>\n",
       "      <th>28</th>\n",
       "      <td>78750.0</td>\n",
       "      <td>75958</td>\n",
       "      <td>6</td>\n",
       "      <td>6</td>\n",
       "      <td>1012</td>\n",
       "      <td>33</td>\n",
       "    </tr>\n",
       "    <tr>\n",
       "      <th>15</th>\n",
       "      <td>78729.0</td>\n",
       "      <td>57358</td>\n",
       "      <td>7</td>\n",
       "      <td>7</td>\n",
       "      <td>1008</td>\n",
       "      <td>37</td>\n",
       "    </tr>\n",
       "    <tr>\n",
       "      <th>26</th>\n",
       "      <td>78748.0</td>\n",
       "      <td>65889</td>\n",
       "      <td>6</td>\n",
       "      <td>8</td>\n",
       "      <td>1095</td>\n",
       "      <td>44</td>\n",
       "    </tr>\n",
       "    <tr>\n",
       "      <th>23</th>\n",
       "      <td>78744.0</td>\n",
       "      <td>41056</td>\n",
       "      <td>9</td>\n",
       "      <td>23</td>\n",
       "      <td>946</td>\n",
       "      <td>40</td>\n",
       "    </tr>\n",
       "    <tr>\n",
       "      <th>17</th>\n",
       "      <td>78731.0</td>\n",
       "      <td>78265</td>\n",
       "      <td>4</td>\n",
       "      <td>2</td>\n",
       "      <td>1016</td>\n",
       "      <td>32</td>\n",
       "    </tr>\n",
       "    <tr>\n",
       "      <th>31</th>\n",
       "      <td>78753.0</td>\n",
       "      <td>39593</td>\n",
       "      <td>9</td>\n",
       "      <td>16</td>\n",
       "      <td>826</td>\n",
       "      <td>44</td>\n",
       "    </tr>\n",
       "    <tr>\n",
       "      <th>21</th>\n",
       "      <td>78741.0</td>\n",
       "      <td>30183</td>\n",
       "      <td>9</td>\n",
       "      <td>10</td>\n",
       "      <td>835</td>\n",
       "      <td>43</td>\n",
       "    </tr>\n",
       "    <tr>\n",
       "      <th>14</th>\n",
       "      <td>78728.0</td>\n",
       "      <td>47405</td>\n",
       "      <td>6</td>\n",
       "      <td>4</td>\n",
       "      <td>901</td>\n",
       "      <td>40</td>\n",
       "    </tr>\n",
       "    <tr>\n",
       "      <th>10</th>\n",
       "      <td>78721.0</td>\n",
       "      <td>32131</td>\n",
       "      <td>16</td>\n",
       "      <td>14</td>\n",
       "      <td>870</td>\n",
       "      <td>40</td>\n",
       "    </tr>\n",
       "    <tr>\n",
       "      <th>18</th>\n",
       "      <td>78732.0</td>\n",
       "      <td>127726</td>\n",
       "      <td>5</td>\n",
       "      <td>15</td>\n",
       "      <td>1688</td>\n",
       "      <td>33</td>\n",
       "    </tr>\n",
       "    <tr>\n",
       "      <th>11</th>\n",
       "      <td>78722.0</td>\n",
       "      <td>44917</td>\n",
       "      <td>8</td>\n",
       "      <td>3</td>\n",
       "      <td>930</td>\n",
       "      <td>33</td>\n",
       "    </tr>\n",
       "    <tr>\n",
       "      <th>35</th>\n",
       "      <td>78758.0</td>\n",
       "      <td>41792</td>\n",
       "      <td>10</td>\n",
       "      <td>10</td>\n",
       "      <td>898</td>\n",
       "      <td>40</td>\n",
       "    </tr>\n",
       "  </tbody>\n",
       "</table>\n",
       "</div>"
      ],
      "text/plain": [
       "    Zip Code  Median household income  Unemployment  \\\n",
       "28   78750.0                    75958             6   \n",
       "15   78729.0                    57358             7   \n",
       "26   78748.0                    65889             6   \n",
       "23   78744.0                    41056             9   \n",
       "17   78731.0                    78265             4   \n",
       "31   78753.0                    39593             9   \n",
       "21   78741.0                    30183             9   \n",
       "14   78728.0                    47405             6   \n",
       "10   78721.0                    32131            16   \n",
       "18   78732.0                   127726             5   \n",
       "11   78722.0                    44917             8   \n",
       "35   78758.0                    41792            10   \n",
       "\n",
       "    Large households (5+ members)  Median rent  \\\n",
       "28                              6         1012   \n",
       "15                              7         1008   \n",
       "26                              8         1095   \n",
       "23                             23          946   \n",
       "17                              2         1016   \n",
       "31                             16          826   \n",
       "21                             10          835   \n",
       "14                              4          901   \n",
       "10                             14          870   \n",
       "18                             15         1688   \n",
       "11                              3          930   \n",
       "35                             10          898   \n",
       "\n",
       "    Percentage of housing and transportation costs that is transportation-related  \n",
       "28                                                 33                              \n",
       "15                                                 37                              \n",
       "26                                                 44                              \n",
       "23                                                 40                              \n",
       "17                                                 32                              \n",
       "31                                                 44                              \n",
       "21                                                 43                              \n",
       "14                                                 40                              \n",
       "10                                                 40                              \n",
       "18                                                 33                              \n",
       "11                                                 33                              \n",
       "35                                                 40                              "
      ]
     },
     "execution_count": 93,
     "metadata": {},
     "output_type": "execute_result"
    }
   ],
   "source": [
    "X_test"
   ]
  },
  {
   "cell_type": "code",
   "execution_count": null,
   "metadata": {},
   "outputs": [],
   "source": []
  }
 ],
 "metadata": {
  "kernelspec": {
   "display_name": "Python 3",
   "language": "python",
   "name": "python3"
  },
  "language_info": {
   "codemirror_mode": {
    "name": "ipython",
    "version": 3
   },
   "file_extension": ".py",
   "mimetype": "text/x-python",
   "name": "python",
   "nbconvert_exporter": "python",
   "pygments_lexer": "ipython3",
   "version": "3.7.2"
  }
 },
 "nbformat": 4,
 "nbformat_minor": 2
}
