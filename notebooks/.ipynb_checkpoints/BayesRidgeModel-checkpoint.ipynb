{
 "cells": [
  {
   "cell_type": "code",
   "execution_count": 6,
   "metadata": {
    "colab": {
     "base_uri": "https://localhost:8080/",
     "height": 1130
    },
    "colab_type": "code",
    "executionInfo": {
     "elapsed": 1905,
     "status": "ok",
     "timestamp": 1555708299084,
     "user": {
      "displayName": "Kevin Gao",
      "photoUrl": "",
      "userId": "04989612666947682805"
     },
     "user_tz": 300
    },
    "id": "uVxqRO33blM9",
    "outputId": "34a76537-92ec-42fd-db88-5a93cf010c71"
   },
   "outputs": [
    {
     "name": "stdout",
     "output_type": "stream",
     "text": [
      "[0.84969786 0.89176814 0.79955379 0.92243518 0.90290894 0.87680318\n",
      " 0.89413005 0.85584334 0.92421106 0.87327326]\n",
      "R^2 Value: 0.883700626125059\n",
      "Root Mean Squared Error: 27108.886814532023\n"
     ]
    },
    {
     "data": {
      "text/plain": [
       "Text(0, 0.5, 'Predictions')"
      ]
     },
     "execution_count": 6,
     "metadata": {},
     "output_type": "execute_result"
    },
    {
     "data": {
      "image/png": "[encoded data removed]",
      "text/plain": [
       "<Figure size 432x288 with 1 Axes>"
      ]
     },
     "metadata": {
      "needs_background": "light"
     },
     "output_type": "display_data"
    }
   ],
   "source": [
    "import pandas as pd\n",
    "import seaborn as sb\n",
    "import sklearn as sk\n",
    "import numpy as np\n",
    "import matplotlib.pyplot as plt\n",
    "from sklearn import metrics\n",
    "from sklearn.metrics import mean_squared_error\n",
    "from sklearn.linear_model import BayesianRidge\n",
    "from sklearn.model_selection import cross_validate\n",
    "from sklearn.preprocessing import *\n",
    "from sklearn.model_selection import cross_val_score, cross_val_predict\n",
    "# Multiple Regression using Backward Elimination and Cross_Val\n",
    "\n",
    "# df = pd.read_csv('train_adjusted.csv')\n",
    "df = pd.read_csv('train_adjusted.csv')\n",
    "columns = list(df.columns.values)\n",
    "\n",
    "\n",
    "# train all columns\n",
    "x = df[['LotArea',\n",
    " 'OverallQual',\n",
    " 'OverallCond',\n",
    " 'MasVnrArea',\n",
    " 'BsmtFinSF1',\n",
    " 'BsmtUnfSF',\n",
    " '1stFlrSF',\n",
    " '2ndFlrSF',\n",
    " 'BsmtFullBath',\n",
    " 'BedroomAbvGr',\n",
    " 'KitchenAbvGr',\n",
    " 'TotRmsAbvGrd',\n",
    " 'Fire2laces',\n",
    " 'GarageYrBlt',\n",
    " 'GarageCars',\n",
    " 'WoodDeckSF',\n",
    " 'ScreenPorch']]\n",
    "\n",
    "x = x.astype(np.float64)\n",
    "\n",
    "# y = df.iloc[:, lambda df: [38]].values\n",
    "y = np.ravel(df[['SalePrice']])\n",
    "\n",
    "\n",
    "poly = PolynomialFeatures(degree=2,include_bias=False)\n",
    "x = poly.fit_transform(x)\n",
    "sds =  StandardScaler()\n",
    "x = sds.fit_transform(x)\n",
    "\n",
    "\n",
    "model = BayesianRidge()\n",
    "model.fit(x,y)\n",
    "\n",
    "#Super Champ\n",
    "# R^2 Value: 0.9028012882251895\n",
    "# Root Mean Squared Error: 24782.964256275893\n",
    "\n",
    "scores = cross_val_score(model, x, y, cv = 10)\n",
    "print(scores)\n",
    "\n",
    "predictions = cross_val_predict(model, x, y, cv = 10)\n",
    "plt.scatter(y, predictions)\n",
    "\n",
    "coeff = metrics.r2_score(y, predictions)\n",
    "print(\"R^2 Value:\", coeff)\n",
    "\n",
    "rmse = np.sqrt(mean_squared_error(predictions,y))\n",
    "print('Root Mean Squared Error:', rmse)\n",
    "\n",
    "plt.scatter(y,predictions)\n",
    "plt.xlabel(\"Actual Sales Price\")\n",
    "plt.ylabel(\"Predictions\")"
   ]
  },
  {
   "cell_type": "code",
   "execution_count": 7,
   "metadata": {},
   "outputs": [],
   "source": [
    "import pickle"
   ]
  },
  {
   "cell_type": "code",
   "execution_count": 8,
   "metadata": {},
   "outputs": [],
   "source": [
    "with open('model.pkl','wb') as f:\n",
    "    pickle.dump(model,f)"
   ]
  },
  {
   "cell_type": "code",
   "execution_count": 22,
   "metadata": {},
   "outputs": [],
   "source": [
    "x_dict = {\n",
    "    'Labor': 6,\n",
    "    'Potato': 10,\n",
    "    'Lava': 100\n",
    "}\n",
    "cols = ['Labor','Lava','Potato']"
   ]
  },
  {
   "cell_type": "code",
   "execution_count": 23,
   "metadata": {},
   "outputs": [],
   "source": [
    "# df = pd.DataFrame(list(x_dict.values()),columns=list(x_dict.keys()))"
   ]
  },
  {
   "cell_type": "code",
   "execution_count": 34,
   "metadata": {},
   "outputs": [],
   "source": [
    "vals = np.array([[x_dict[col] for col in cols]])"
   ]
  },
  {
   "cell_type": "code",
   "execution_count": 33,
   "metadata": {},
   "outputs": [
    {
     "data": {
      "text/plain": [
       "array([[  6, 100,  10]])"
      ]
     },
     "execution_count": 33,
     "metadata": {},
     "output_type": "execute_result"
    }
   ],
   "source": [
    "np.expand_dims(vals, axis=0)"
   ]
  },
  {
   "cell_type": "code",
   "execution_count": 36,
   "metadata": {},
   "outputs": [
    {
     "data": {
      "text/plain": [
       "(1, 3)"
      ]
     },
     "execution_count": 36,
     "metadata": {},
     "output_type": "execute_result"
    }
   ],
   "source": [
    "vals.shape"
   ]
  },
  {
   "cell_type": "code",
   "execution_count": 39,
   "metadata": {},
   "outputs": [
    {
     "data": {
      "text/plain": [
       "(1457, 170)"
      ]
     },
     "execution_count": 39,
     "metadata": {},
     "output_type": "execute_result"
    }
   ],
   "source": [
    "x.shape"
   ]
  },
  {
   "cell_type": "code",
   "execution_count": 41,
   "metadata": {},
   "outputs": [],
   "source": [
    "with open('saved_poly.pkl','wb') as f:\n",
    "    pickle.dump(poly,f)"
   ]
  },
  {
   "cell_type": "code",
   "execution_count": 48,
   "metadata": {},
   "outputs": [
    {
     "data": {
      "text/plain": [
       "pandas.core.series.Series"
      ]
     },
     "execution_count": 48,
     "metadata": {},
     "output_type": "execute_result"
    }
   ],
   "source": [
    "orig = df[['LotArea',\n",
    " 'OverallQual',\n",
    " 'OverallCond',\n",
    " 'MasVnrArea',\n",
    " 'BsmtFinSF1',\n",
    " 'BsmtUnfSF',\n",
    " '1stFlrSF',\n",
    " '2ndFlrSF',\n",
    " 'BsmtFullBath',\n",
    " 'BedroomAbvGr',\n",
    " 'KitchenAbvGr',\n",
    " 'TotRmsAbvGrd',\n",
    " 'Fire2laces',\n",
    " 'GarageYrBlt',\n",
    " 'GarageCars',\n",
    " 'WoodDeckSF',\n",
    " 'ScreenPorch']]\n",
    "type(orig.iloc[0])"
   ]
  },
  {
   "cell_type": "code",
   "execution_count": 51,
   "metadata": {},
   "outputs": [
    {
     "data": {
      "text/plain": [
       "array([207098.37800775])"
      ]
     },
     "execution_count": 51,
     "metadata": {},
     "output_type": "execute_result"
    }
   ],
   "source": [
    "test = poly.transform([orig.iloc[0]])\n",
    "test = sds.transform(test)\n",
    "model.predict(test)"
   ]
  },
  {
   "cell_type": "code",
   "execution_count": null,
   "metadata": {},
   "outputs": [],
   "source": []
  }
 ],
 "metadata": {
  "colab": {
   "collapsed_sections": [],
   "name": "BayesRidgeModel.ipynb",
   "provenance": [],
   "version": "0.3.2"
  },
  "kernelspec": {
   "display_name": "Python 3",
   "language": "python",
   "name": "python3"
  },
  "language_info": {
   "codemirror_mode": {
    "name": "ipython",
    "version": 3
   },
   "file_extension": ".py",
   "mimetype": "text/x-python",
   "name": "python",
   "nbconvert_exporter": "python",
   "pygments_lexer": "ipython3",
   "version": "3.7.2"
  }
 },
 "nbformat": 4,
 "nbformat_minor": 1
}
